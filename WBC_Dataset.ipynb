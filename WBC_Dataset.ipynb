{
  "cells": [
    {
      "cell_type": "markdown",
      "metadata": {
        "id": "view-in-github",
        "colab_type": "text"
      },
      "source": [
        "<a href=\"https://colab.research.google.com/github/singgihbekti/WBC_Dataset/blob/main/WBC_Dataset.ipynb\" target=\"_parent\"><img src=\"https://colab.research.google.com/assets/colab-badge.svg\" alt=\"Open In Colab\"/></a>"
      ]
    },
    {
      "cell_type": "markdown",
      "metadata": {
        "id": "1dCIvH1VGI8s"
      },
      "source": [
        "**Clone The Repository**\n",
        "====================\n",
        "\n",
        "https://github.com/singgihbekti/WBC_Dataset"
      ]
    },
    {
      "cell_type": "code",
      "execution_count": null,
      "metadata": {
        "colab": {
          "background_save": true,
          "base_uri": "https://localhost:8080/"
        },
        "id": "6-srVF27F9km",
        "outputId": "4f0b53be-8ad7-43df-ef53-79f4764901cb"
      },
      "outputs": [
        {
          "name": "stdout",
          "output_type": "stream",
          "text": [
            "Cloning into 'WBC_Dataset'...\n",
            "remote: Enumerating objects: 1083, done.\u001b[K\n",
            "remote: Counting objects: 100% (169/169), done.\u001b[K\n",
            "remote: Compressing objects: 100% (167/167), done.\u001b[K\n",
            "remote: Total 1083 (delta 4), reused 158 (delta 2), pack-reused 914\u001b[K\n",
            "Receiving objects: 100% (1083/1083), 476.22 MiB | 17.28 MiB/s, done.\n",
            "Resolving deltas: 100% (25/25), done.\n",
            "Checking out files: 100% (1004/1004), done.\n"
          ]
        }
      ],
      "source": [
        "!git clone 'https://github.com/singgihbekti/WBC_Dataset.git'"
      ]
    },
    {
      "cell_type": "markdown",
      "metadata": {
        "id": "UduupnOgHRPb"
      },
      "source": [
        "Clone YOLOv5 Repository\n",
        "https://github.com/ultralytics/yolov5.git"
      ]
    },
    {
      "cell_type": "code",
      "execution_count": null,
      "metadata": {
        "colab": {
          "background_save": true,
          "base_uri": "https://localhost:8080/"
        },
        "id": "6Zh8AvxGGV5F",
        "outputId": "0439de81-e6b6-4407-8f81-39d6d6da2ccf"
      },
      "outputs": [
        {
          "name": "stdout",
          "output_type": "stream",
          "text": [
            "Cloning into 'yolov5'...\n",
            "remote: Enumerating objects: 12388, done.\u001b[K\n",
            "remote: Counting objects: 100% (8/8), done.\u001b[K\n",
            "remote: Compressing objects: 100% (8/8), done.\u001b[K\n",
            "remote: Total 12388 (delta 1), reused 7 (delta 0), pack-reused 12380\u001b[K\n",
            "Receiving objects: 100% (12388/12388), 12.12 MiB | 8.44 MiB/s, done.\n",
            "Resolving deltas: 100% (8544/8544), done.\n"
          ]
        }
      ],
      "source": [
        "!git clone  'https://github.com/ultralytics/yolov5.git'"
      ]
    },
    {
      "cell_type": "code",
      "execution_count": null,
      "metadata": {
        "colab": {
          "background_save": true,
          "base_uri": "https://localhost:8080/"
        },
        "id": "scWaxz6nHWGF",
        "outputId": "5bc5752d-3e7d-4eda-b455-355d4f065df8"
      },
      "outputs": [
        {
          "name": "stdout",
          "output_type": "stream",
          "text": [
            "\u001b[?25l\r\u001b[K     |▌                               | 10 kB 16.8 MB/s eta 0:00:01\r\u001b[K     |█                               | 20 kB 24.4 MB/s eta 0:00:01\r\u001b[K     |█▋                              | 30 kB 29.4 MB/s eta 0:00:01\r\u001b[K     |██▏                             | 40 kB 33.6 MB/s eta 0:00:01\r\u001b[K     |██▊                             | 51 kB 36.9 MB/s eta 0:00:01\r\u001b[K     |███▎                            | 61 kB 37.9 MB/s eta 0:00:01\r\u001b[K     |███▉                            | 71 kB 27.9 MB/s eta 0:00:01\r\u001b[K     |████▍                           | 81 kB 29.1 MB/s eta 0:00:01\r\u001b[K     |█████                           | 92 kB 31.3 MB/s eta 0:00:01\r\u001b[K     |█████▌                          | 102 kB 33.3 MB/s eta 0:00:01\r\u001b[K     |██████                          | 112 kB 33.3 MB/s eta 0:00:01\r\u001b[K     |██████▋                         | 122 kB 33.3 MB/s eta 0:00:01\r\u001b[K     |███████▏                        | 133 kB 33.3 MB/s eta 0:00:01\r\u001b[K     |███████▊                        | 143 kB 33.3 MB/s eta 0:00:01\r\u001b[K     |████████▎                       | 153 kB 33.3 MB/s eta 0:00:01\r\u001b[K     |████████▉                       | 163 kB 33.3 MB/s eta 0:00:01\r\u001b[K     |█████████▍                      | 174 kB 33.3 MB/s eta 0:00:01\r\u001b[K     |██████████                      | 184 kB 33.3 MB/s eta 0:00:01\r\u001b[K     |██████████▍                     | 194 kB 33.3 MB/s eta 0:00:01\r\u001b[K     |███████████                     | 204 kB 33.3 MB/s eta 0:00:01\r\u001b[K     |███████████▌                    | 215 kB 33.3 MB/s eta 0:00:01\r\u001b[K     |████████████                    | 225 kB 33.3 MB/s eta 0:00:01\r\u001b[K     |████████████▋                   | 235 kB 33.3 MB/s eta 0:00:01\r\u001b[K     |█████████████▏                  | 245 kB 33.3 MB/s eta 0:00:01\r\u001b[K     |█████████████▊                  | 256 kB 33.3 MB/s eta 0:00:01\r\u001b[K     |██████████████▎                 | 266 kB 33.3 MB/s eta 0:00:01\r\u001b[K     |██████████████▉                 | 276 kB 33.3 MB/s eta 0:00:01\r\u001b[K     |███████████████▍                | 286 kB 33.3 MB/s eta 0:00:01\r\u001b[K     |████████████████                | 296 kB 33.3 MB/s eta 0:00:01\r\u001b[K     |████████████████▌               | 307 kB 33.3 MB/s eta 0:00:01\r\u001b[K     |█████████████████               | 317 kB 33.3 MB/s eta 0:00:01\r\u001b[K     |█████████████████▋              | 327 kB 33.3 MB/s eta 0:00:01\r\u001b[K     |██████████████████▏             | 337 kB 33.3 MB/s eta 0:00:01\r\u001b[K     |██████████████████▊             | 348 kB 33.3 MB/s eta 0:00:01\r\u001b[K     |███████████████████▎            | 358 kB 33.3 MB/s eta 0:00:01\r\u001b[K     |███████████████████▉            | 368 kB 33.3 MB/s eta 0:00:01\r\u001b[K     |████████████████████▍           | 378 kB 33.3 MB/s eta 0:00:01\r\u001b[K     |████████████████████▉           | 389 kB 33.3 MB/s eta 0:00:01\r\u001b[K     |█████████████████████▍          | 399 kB 33.3 MB/s eta 0:00:01\r\u001b[K     |██████████████████████          | 409 kB 33.3 MB/s eta 0:00:01\r\u001b[K     |██████████████████████▌         | 419 kB 33.3 MB/s eta 0:00:01\r\u001b[K     |███████████████████████         | 430 kB 33.3 MB/s eta 0:00:01\r\u001b[K     |███████████████████████▋        | 440 kB 33.3 MB/s eta 0:00:01\r\u001b[K     |████████████████████████▏       | 450 kB 33.3 MB/s eta 0:00:01\r\u001b[K     |████████████████████████▊       | 460 kB 33.3 MB/s eta 0:00:01\r\u001b[K     |█████████████████████████▎      | 471 kB 33.3 MB/s eta 0:00:01\r\u001b[K     |█████████████████████████▉      | 481 kB 33.3 MB/s eta 0:00:01\r\u001b[K     |██████████████████████████▍     | 491 kB 33.3 MB/s eta 0:00:01\r\u001b[K     |███████████████████████████     | 501 kB 33.3 MB/s eta 0:00:01\r\u001b[K     |███████████████████████████▌    | 512 kB 33.3 MB/s eta 0:00:01\r\u001b[K     |████████████████████████████    | 522 kB 33.3 MB/s eta 0:00:01\r\u001b[K     |████████████████████████████▋   | 532 kB 33.3 MB/s eta 0:00:01\r\u001b[K     |█████████████████████████████▏  | 542 kB 33.3 MB/s eta 0:00:01\r\u001b[K     |█████████████████████████████▊  | 552 kB 33.3 MB/s eta 0:00:01\r\u001b[K     |██████████████████████████████▎ | 563 kB 33.3 MB/s eta 0:00:01\r\u001b[K     |██████████████████████████████▊ | 573 kB 33.3 MB/s eta 0:00:01\r\u001b[K     |███████████████████████████████▎| 583 kB 33.3 MB/s eta 0:00:01\r\u001b[K     |███████████████████████████████▉| 593 kB 33.3 MB/s eta 0:00:01\r\u001b[K     |████████████████████████████████| 596 kB 33.3 MB/s \n",
            "\u001b[?25h"
          ]
        }
      ],
      "source": [
        "!pip install -qr '/content/yolov5/requirements.txt'  # install dependencies"
      ]
    },
    {
      "cell_type": "markdown",
      "metadata": {
        "id": "jMXvxDtcIGyR"
      },
      "source": [
        "**Create file YAML**\n",
        "====================\n",
        "train: /content/WBC_Dataset/WBC_Samples/train\n",
        "val: /content/WBC_Dataset/WBC_Samples/valid\n",
        "\n",
        "nc: 5\n",
        "\n",
        "names: ['Neurotrophil', 'Eosinophil', 'Basophil', 'Lymphocyte', 'Monocyte']"
      ]
    },
    {
      "cell_type": "code",
      "execution_count": null,
      "metadata": {
        "colab": {
          "base_uri": "https://localhost:8080/",
          "height": 35
        },
        "id": "3KGgEkiDH97n",
        "outputId": "829e68eb-ffce-48b4-82d5-efe8c07a3ce2"
      },
      "outputs": [
        {
          "data": {
            "application/vnd.google.colaboratory.intrinsic+json": {
              "type": "string"
            },
            "text/plain": [
              "'/content'"
            ]
          },
          "execution_count": 4,
          "metadata": {},
          "output_type": "execute_result"
        }
      ],
      "source": [
        "pwd"
      ]
    },
    {
      "cell_type": "code",
      "execution_count": null,
      "metadata": {
        "id": "WlrLb0vPL1gl"
      },
      "outputs": [],
      "source": [
        "!cd /content/WBC_Dataset/WBC_Samples/"
      ]
    },
    {
      "cell_type": "code",
      "execution_count": null,
      "metadata": {
        "colab": {
          "base_uri": "https://localhost:8080/"
        },
        "id": "-5gIvXmXL8jl",
        "outputId": "3f0f9cf8-2913-498a-dbbd-313088e45a73"
      },
      "outputs": [
        {
          "name": "stdout",
          "output_type": "stream",
          "text": [
            "train: /content/WBC_Dataset/WBC_Samples/train\n",
            "val: /content/WBC_Dataset/WBC_Samples/valid\n",
            "\n",
            "nc: 5\n",
            "names: [Neurotrophil, Eosinophil, Basophil, Lymphocyte, Monocyte]\n"
          ]
        }
      ],
      "source": [
        "!echo -e 'train: /content/WBC_Dataset/WBC_Samples/train\\nval: /content/WBC_Dataset/WBC_Samples/valid\\n\\nnc: 5\\nnames: ['Neurotrophil', 'Eosinophil', 'Basophil', 'Lymphocyte', 'Monocyte']' >> mywbc.yaml\n",
        "!cat 'mywbc.yaml'"
      ]
    },
    {
      "cell_type": "code",
      "execution_count": null,
      "metadata": {
        "colab": {
          "base_uri": "https://localhost:8080/",
          "height": 35
        },
        "id": "e3vTD8t-MCzM",
        "outputId": "bab41b99-6391-452c-b539-60eb327bdc31"
      },
      "outputs": [
        {
          "data": {
            "application/vnd.google.colaboratory.intrinsic+json": {
              "type": "string"
            },
            "text/plain": [
              "'/content/yolov5/mywbc.yaml'"
            ]
          },
          "execution_count": 7,
          "metadata": {},
          "output_type": "execute_result"
        }
      ],
      "source": [
        "import shutil\n",
        "shutil.copyfile('/content/mywbc.yaml', '/content/yolov5/mywbc.yaml')"
      ]
    },
    {
      "cell_type": "markdown",
      "metadata": {
        "id": "zhbgMKIbOAuw"
      },
      "source": [
        "Edit the number of classes (nc) in the ./models/*.yaml file"
      ]
    },
    {
      "cell_type": "code",
      "execution_count": null,
      "metadata": {
        "id": "oGeyNlLxNYch"
      },
      "outputs": [],
      "source": [
        "!sed -i 's/nc: 80/nc: 5/g' ./yolov5/models/yolov5s.yaml"
      ]
    },
    {
      "cell_type": "markdown",
      "metadata": {
        "id": "nHoGuprbOVFY"
      },
      "source": [
        "**Training command**\n",
        "===================="
      ]
    },
    {
      "cell_type": "markdown",
      "metadata": {
        "id": "W04kPlrvOoYP"
      },
      "source": [
        "Training Parameters\n",
        "\n",
        "!python\n",
        "\n",
        "    <'location of train.py file'>\n",
        "    --img <'width of image'>\n",
        "    --batch <'batch size'>\n",
        "    --epochs <'no of epochs'>\n",
        "    --data <'location of the .yaml file'>\n",
        "    --cfg <'Which yolo configuration you want'>(yolov5s/yolov5m/yolov5l/yolov5x).yaml | (small, medium, large, xlarge)\n",
        "    --name <'Name of the best model after training'>\n",
        "\n",
        "METRICS FROM TRAINING PROCESS\n",
        "\n",
        "No.of classes, No.of images, No.of targets, Precision (P), Recall (R), mean Average Precision (map)\n",
        "\n",
        "    Class | Images | Targets | P | R | mAP@.5 | mAP@.5:.95: |\n",
        "    all | 270 | 489 | 0.0899 | 0.827 | 0.0879 | 0.0551\n",
        "\n"
      ]
    },
    {
      "cell_type": "markdown",
      "metadata": {
        "id": "R87m25aePMxj"
      },
      "source": [
        "Change the epochs in case just for simulation"
      ]
    },
    {
      "cell_type": "code",
      "execution_count": null,
      "metadata": {
        "colab": {
          "base_uri": "https://localhost:8080/"
        },
        "id": "-aNiNnC1OEzk",
        "outputId": "2915a49f-7098-487b-dd63-7c31865f19d9"
      },
      "outputs": [
        {
          "name": "stdout",
          "output_type": "stream",
          "text": [
            "\u001b[34m\u001b[1mtrain: \u001b[0mweights=yolov5/yolov5s.pt, cfg=/content/yolov5/models/yolov5s.yaml, data=mywbc.yaml, hyp=yolov5/data/hyps/hyp.scratch-low.yaml, epochs=2, batch_size=16, imgsz=640, rect=False, resume=False, nosave=False, noval=False, noautoanchor=False, noplots=False, evolve=None, bucket=, cache=None, image_weights=False, device=, multi_scale=False, single_cls=False, optimizer=SGD, sync_bn=False, workers=8, project=yolov5/runs/train, name=wbcmodel, exist_ok=False, quad=False, cos_lr=False, label_smoothing=0.0, patience=100, freeze=[0], save_period=-1, local_rank=-1, entity=None, upload_dataset=False, bbox_interval=-1, artifact_alias=latest\n",
            "\u001b[34m\u001b[1mgithub: \u001b[0mup to date with https://github.com/ultralytics/yolov5 ✅\n",
            "YOLOv5 🚀 v6.1-259-ga2a1ed2 Python-3.7.13 torch-1.11.0+cu113 CUDA:0 (Tesla T4, 15110MiB)\n",
            "\n",
            "\u001b[34m\u001b[1mhyperparameters: \u001b[0mlr0=0.01, lrf=0.01, momentum=0.937, weight_decay=0.0005, warmup_epochs=3.0, warmup_momentum=0.8, warmup_bias_lr=0.1, box=0.05, cls=0.5, cls_pw=1.0, obj=1.0, obj_pw=1.0, iou_t=0.2, anchor_t=4.0, fl_gamma=0.0, hsv_h=0.015, hsv_s=0.7, hsv_v=0.4, degrees=0.0, translate=0.1, scale=0.5, shear=0.0, perspective=0.0, flipud=0.0, fliplr=0.5, mosaic=1.0, mixup=0.0, copy_paste=0.0\n",
            "\u001b[34m\u001b[1mWeights & Biases: \u001b[0mrun 'pip install wandb' to automatically track and visualize YOLOv5 🚀 runs (RECOMMENDED)\n",
            "\u001b[34m\u001b[1mTensorBoard: \u001b[0mStart with 'tensorboard --logdir yolov5/runs/train', view at http://localhost:6006/\n",
            "Downloading https://ultralytics.com/assets/Arial.ttf to /root/.config/Ultralytics/Arial.ttf...\n",
            "100% 755k/755k [00:00<00:00, 28.0MB/s]\n",
            "Downloading https://github.com/ultralytics/yolov5/releases/download/v6.1/yolov5s.pt to yolov5/yolov5s.pt...\n",
            "100% 14.1M/14.1M [00:00<00:00, 39.9MB/s]\n",
            "\n",
            "\n",
            "                 from  n    params  module                                  arguments                     \n",
            "  0                -1  1      3520  models.common.Conv                      [3, 32, 6, 2, 2]              \n",
            "  1                -1  1     18560  models.common.Conv                      [32, 64, 3, 2]                \n",
            "  2                -1  1     18816  models.common.C3                        [64, 64, 1]                   \n",
            "  3                -1  1     73984  models.common.Conv                      [64, 128, 3, 2]               \n",
            "  4                -1  2    115712  models.common.C3                        [128, 128, 2]                 \n",
            "  5                -1  1    295424  models.common.Conv                      [128, 256, 3, 2]              \n",
            "  6                -1  3    625152  models.common.C3                        [256, 256, 3]                 \n",
            "  7                -1  1   1180672  models.common.Conv                      [256, 512, 3, 2]              \n",
            "  8                -1  1   1182720  models.common.C3                        [512, 512, 1]                 \n",
            "  9                -1  1    656896  models.common.SPPF                      [512, 512, 5]                 \n",
            " 10                -1  1    131584  models.common.Conv                      [512, 256, 1, 1]              \n",
            " 11                -1  1         0  torch.nn.modules.upsampling.Upsample    [None, 2, 'nearest']          \n",
            " 12           [-1, 6]  1         0  models.common.Concat                    [1]                           \n",
            " 13                -1  1    361984  models.common.C3                        [512, 256, 1, False]          \n",
            " 14                -1  1     33024  models.common.Conv                      [256, 128, 1, 1]              \n",
            " 15                -1  1         0  torch.nn.modules.upsampling.Upsample    [None, 2, 'nearest']          \n",
            " 16           [-1, 4]  1         0  models.common.Concat                    [1]                           \n",
            " 17                -1  1     90880  models.common.C3                        [256, 128, 1, False]          \n",
            " 18                -1  1    147712  models.common.Conv                      [128, 128, 3, 2]              \n",
            " 19          [-1, 14]  1         0  models.common.Concat                    [1]                           \n",
            " 20                -1  1    296448  models.common.C3                        [256, 256, 1, False]          \n",
            " 21                -1  1    590336  models.common.Conv                      [256, 256, 3, 2]              \n",
            " 22          [-1, 10]  1         0  models.common.Concat                    [1]                           \n",
            " 23                -1  1   1182720  models.common.C3                        [512, 512, 1, False]          \n",
            " 24      [17, 20, 23]  1     26970  models.yolo.Detect                      [5, [[10, 13, 16, 30, 33, 23], [30, 61, 62, 45, 59, 119], [116, 90, 156, 198, 373, 326]], [128, 256, 512]]\n",
            "YOLOv5s summary: 270 layers, 7033114 parameters, 7033114 gradients\n",
            "\n",
            "Transferred 342/349 items from yolov5/yolov5s.pt\n",
            "\u001b[34m\u001b[1mAMP: \u001b[0mchecks passed ✅\n",
            "Scaled weight_decay = 0.0005\n",
            "\u001b[34m\u001b[1moptimizer:\u001b[0m SGD with parameter groups 57 weight (no decay), 60 weight, 60 bias\n",
            "\u001b[34m\u001b[1malbumentations: \u001b[0mversion 1.0.3 required by YOLOv5, but version 0.1.12 is currently installed\n",
            "\u001b[34m\u001b[1mtrain: \u001b[0mScanning '/content/WBC_Dataset/WBC_Samples/train/labels' images and labels...343 found, 7 missing, 0 empty, 0 corrupt: 100% 350/350 [00:00<00:00, 882.90it/s]\n",
            "\u001b[34m\u001b[1mtrain: \u001b[0mNew cache created: /content/WBC_Dataset/WBC_Samples/train/labels.cache\n",
            "\u001b[34m\u001b[1mval: \u001b[0mScanning '/content/WBC_Dataset/WBC_Samples/valid/labels' images and labels...145 found, 5 missing, 0 empty, 0 corrupt: 100% 150/150 [00:00<00:00, 350.97it/s]\n",
            "\u001b[34m\u001b[1mval: \u001b[0mNew cache created: /content/WBC_Dataset/WBC_Samples/valid/labels.cache\n",
            "Plotting labels to yolov5/runs/train/wbcmodel/labels.jpg... \n",
            "\n",
            "\u001b[34m\u001b[1mAutoAnchor: \u001b[0m6.42 anchors/target, 0.997 Best Possible Recall (BPR). Current anchors are a good fit to dataset ✅\n",
            "Image sizes 640 train, 640 val\n",
            "Using 2 dataloader workers\n",
            "Logging results to \u001b[1myolov5/runs/train/wbcmodel\u001b[0m\n",
            "Starting training for 2 epochs...\n",
            "\n",
            "     Epoch   gpu_mem       box       obj       cls    labels  img_size\n",
            "       0/1     3.74G    0.1097   0.03337   0.05082        20       640: 100% 22/22 [00:36<00:00,  1.64s/it]\n",
            "               Class     Images     Labels          P          R     mAP@.5 mAP@.5:.95: 100% 5/5 [00:03<00:00,  1.25it/s]\n",
            "                 all        150        151   0.000209     0.0614   0.000243   5.26e-05\n",
            "\n",
            "     Epoch   gpu_mem       box       obj       cls    labels  img_size\n",
            "       1/1     3.96G   0.09283    0.0306     0.049        30       640: 100% 22/22 [00:37<00:00,  1.71s/it]\n",
            "               Class     Images     Labels          P          R     mAP@.5 mAP@.5:.95: 100% 5/5 [00:03<00:00,  1.49it/s]\n",
            "                 all        150        151     0.0011      0.318    0.00118    0.00029\n",
            "\n",
            "2 epochs completed in 0.024 hours.\n",
            "Optimizer stripped from yolov5/runs/train/wbcmodel/weights/last.pt, 14.4MB\n",
            "Optimizer stripped from yolov5/runs/train/wbcmodel/weights/best.pt, 14.4MB\n",
            "\n",
            "Validating yolov5/runs/train/wbcmodel/weights/best.pt...\n",
            "Fusing layers... \n",
            "YOLOv5s summary: 213 layers, 7023610 parameters, 0 gradients\n",
            "               Class     Images     Labels          P          R     mAP@.5 mAP@.5:.95: 100% 5/5 [00:07<00:00,  1.43s/it]\n",
            "                 all        150        151    0.00108      0.311    0.00116   0.000281\n",
            "        Neurotrophil        150         31   0.000857      0.484    0.00119   0.000287\n",
            "          Eosinophil        150         29   0.000955       0.31   0.000722   0.000159\n",
            "            Basophil        150         30    0.00158        0.5    0.00219   0.000518\n",
            "          Lymphocyte        150         36     0.0014      0.139   0.000838   0.000295\n",
            "            Monocyte        150         25     0.0006       0.12   0.000849   0.000147\n",
            "Results saved to \u001b[1myolov5/runs/train/wbcmodel\u001b[0m\n",
            "CPU times: user 965 ms, sys: 100 ms, total: 1.07 s\n",
            "Wall time: 2min 22s\n"
          ]
        }
      ],
      "source": [
        "%%time\n",
        "\n",
        "!python yolov5/train.py --img 640 --batch 16 --epochs 2 --data mywbc.yaml --cfg /content/yolov5/models/yolov5s.yaml --name wbcmodel"
      ]
    },
    {
      "cell_type": "code",
      "execution_count": null,
      "metadata": {
        "colab": {
          "base_uri": "https://localhost:8080/",
          "height": 873
        },
        "id": "_qeFGYMaQgFZ",
        "outputId": "5c4b5af6-fabd-40e5-8aea-2a9ccbde29ef"
      },
      "outputs": [],
      "source": [
        "# Start tensorboard (optional)\n",
        "%load_ext tensorboard\n",
        "%tensorboard --logdir /content/WBC_Dataset/weights/best.pt"
      ]
    },
    {
      "cell_type": "markdown",
      "metadata": {
        "id": "E5IyPBaFQVDn"
      },
      "source": [
        "**INFERENCE**\n",
        "===================="
      ]
    },
    {
      "cell_type": "code",
      "execution_count": null,
      "metadata": {
        "id": "xWTvgYqmO_43"
      },
      "outputs": [],
      "source": [
        "#Optimizer stripped from runs/exp2_BCCM/weights/last_BCCM.pt, 14.8MB\n",
        "#Optimizer stripped from runs/exp2_BCCM/weights/best_BCCM.pt, 14.8MB"
      ]
    },
    {
      "cell_type": "markdown",
      "metadata": {
        "id": "NEEyC26jQfv7"
      },
      "source": [
        "BATCH PREDICTION\n",
        "\n",
        "    Results saved to inference/output\n"
      ]
    },
    {
      "cell_type": "markdown",
      "metadata": {
        "id": "zKfDIXIxQyhw"
      },
      "source": [
        "Inference Parameters\n",
        "\n",
        "!python\n",
        "\n",
        "    <'location of detect.py file'>\n",
        "    --source <'location of image/ folder to predict'>\n",
        "    --weight <'location of the saved best weights'>\n",
        "    --output <'location of output files after prediction'>\n",
        "\n"
      ]
    },
    {
      "cell_type": "code",
      "execution_count": null,
      "metadata": {
        "colab": {
          "base_uri": "https://localhost:8080/"
        },
        "id": "IPNwxTotPZxW",
        "outputId": "b1a2a466-77cb-4512-e238-9c302dbc272d"
      },
      "outputs": [
        {
          "name": "stdout",
          "output_type": "stream",
          "text": [
            "\u001b[34m\u001b[1mdetect: \u001b[0mweights=['/content/WBC_Dataset/weights/best.pt'], source=/content/WBC_Dataset/WBC_Samples/valid/images, data=yolov5/data/coco128.yaml, imgsz=[640, 640], conf_thres=0.7, iou_thres=0.45, max_det=1000, device=, view_img=False, save_txt=False, save_conf=False, save_crop=False, nosave=False, classes=None, agnostic_nms=False, augment=False, visualize=False, update=False, project=yolov5/runs/detect, name=exp, exist_ok=False, line_thickness=3, hide_labels=False, hide_conf=False, half=False, dnn=False\n",
            "YOLOv5 🚀 v6.1-259-ga2a1ed2 Python-3.7.13 torch-1.11.0+cu113 CUDA:0 (Tesla T4, 15110MiB)\n",
            "\n",
            "Fusing layers... \n",
            "YOLOv5s_mywbc summary: 213 layers, 7023610 parameters, 0 gradients\n",
            "image 1/150 /content/WBC_Dataset/WBC_Samples/valid/images/B-57_0061.jpg: 416x640 1 basophil, Done. (0.016s)\n",
            "image 2/150 /content/WBC_Dataset/WBC_Samples/valid/images/B-57_0062.jpg: 416x640 1 basophil, Done. (0.011s)\n",
            "image 3/150 /content/WBC_Dataset/WBC_Samples/valid/images/B-57_0063.jpg: 416x640 1 basophil, Done. (0.013s)\n",
            "image 4/150 /content/WBC_Dataset/WBC_Samples/valid/images/B-57_0065.jpg: 416x640 1 basophil, Done. (0.011s)\n",
            "image 5/150 /content/WBC_Dataset/WBC_Samples/valid/images/B-57_0066.jpg: 416x640 1 basophil, Done. (0.011s)\n",
            "image 6/150 /content/WBC_Dataset/WBC_Samples/valid/images/B-57_0067.jpg: 416x640 1 basophil, Done. (0.012s)\n",
            "image 7/150 /content/WBC_Dataset/WBC_Samples/valid/images/B-59_0179.jpg: 416x640 1 basophil, Done. (0.011s)\n",
            "image 8/150 /content/WBC_Dataset/WBC_Samples/valid/images/B-59_0180.jpg: 416x640 1 basophil, Done. (0.010s)\n",
            "image 9/150 /content/WBC_Dataset/WBC_Samples/valid/images/B-59_0181.jpg: 416x640 1 basophil, Done. (0.013s)\n",
            "image 10/150 /content/WBC_Dataset/WBC_Samples/valid/images/B-59_0182.jpg: 416x640 1 basophil, Done. (0.011s)\n",
            "image 11/150 /content/WBC_Dataset/WBC_Samples/valid/images/B-59_0183.jpg: 416x640 1 basophil, Done. (0.011s)\n",
            "image 12/150 /content/WBC_Dataset/WBC_Samples/valid/images/B-59_0184.jpg: 416x640 1 basophil, Done. (0.011s)\n",
            "image 13/150 /content/WBC_Dataset/WBC_Samples/valid/images/B-59_0185.jpg: 416x640 1 basophil, Done. (0.011s)\n",
            "image 14/150 /content/WBC_Dataset/WBC_Samples/valid/images/B-59_0186.jpg: 416x640 1 basophil, Done. (0.011s)\n",
            "image 15/150 /content/WBC_Dataset/WBC_Samples/valid/images/B-59_0187.jpg: 416x640 1 basophil, Done. (0.011s)\n",
            "image 16/150 /content/WBC_Dataset/WBC_Samples/valid/images/B-59_0188.jpg: 416x640 1 basophil, Done. (0.011s)\n",
            "image 17/150 /content/WBC_Dataset/WBC_Samples/valid/images/B-59_0189.jpg: 416x640 1 basophil, Done. (0.011s)\n",
            "image 18/150 /content/WBC_Dataset/WBC_Samples/valid/images/B-59_0196.jpg: 416x640 1 basophil, Done. (0.011s)\n",
            "image 19/150 /content/WBC_Dataset/WBC_Samples/valid/images/B-59_0197.jpg: 416x640 1 basophil, Done. (0.011s)\n",
            "image 20/150 /content/WBC_Dataset/WBC_Samples/valid/images/B-59_0198.jpg: 416x640 1 basophil, Done. (0.010s)\n",
            "image 21/150 /content/WBC_Dataset/WBC_Samples/valid/images/B-59_0199.jpg: 416x640 1 basophil, Done. (0.012s)\n",
            "image 22/150 /content/WBC_Dataset/WBC_Samples/valid/images/B-59_0200.jpg: 416x640 1 basophil, Done. (0.011s)\n",
            "image 23/150 /content/WBC_Dataset/WBC_Samples/valid/images/B-59_0201.jpg: 416x640 1 basophil, Done. (0.011s)\n",
            "image 24/150 /content/WBC_Dataset/WBC_Samples/valid/images/B-59_0202.jpg: 416x640 1 basophil, Done. (0.011s)\n",
            "image 25/150 /content/WBC_Dataset/WBC_Samples/valid/images/B-59_0233.jpg: 416x640 1 basophil, Done. (0.011s)\n",
            "image 26/150 /content/WBC_Dataset/WBC_Samples/valid/images/B-59_0234.jpg: 416x640 1 basophil, Done. (0.011s)\n",
            "image 27/150 /content/WBC_Dataset/WBC_Samples/valid/images/B-59_0235.jpg: 416x640 1 basophil, Done. (0.011s)\n",
            "image 28/150 /content/WBC_Dataset/WBC_Samples/valid/images/B-59_0236.jpg: 416x640 1 basophil, Done. (0.011s)\n",
            "image 29/150 /content/WBC_Dataset/WBC_Samples/valid/images/B-59_0237.jpg: 416x640 1 basophil, Done. (0.011s)\n",
            "image 30/150 /content/WBC_Dataset/WBC_Samples/valid/images/B-59_0238.jpg: 416x640 1 basophil, Done. (0.010s)\n",
            "image 31/150 /content/WBC_Dataset/WBC_Samples/valid/images/E-11_0052.jpg: 416x640 1 eosinophil, Done. (0.011s)\n",
            "image 32/150 /content/WBC_Dataset/WBC_Samples/valid/images/E-11_0191.jpg: 416x640 1 eosinophil, 1 lymphocyte, Done. (0.011s)\n",
            "image 33/150 /content/WBC_Dataset/WBC_Samples/valid/images/E-11_0423.jpg: 416x640 1 eosinophil, 1 lymphocyte, Done. (0.010s)\n",
            "image 34/150 /content/WBC_Dataset/WBC_Samples/valid/images/E-11_0424.jpg: 416x640 1 eosinophil, 1 lymphocyte, Done. (0.011s)\n",
            "image 35/150 /content/WBC_Dataset/WBC_Samples/valid/images/E-11_0425.jpg: 416x640 1 eosinophil, 1 lymphocyte, Done. (0.011s)\n",
            "image 36/150 /content/WBC_Dataset/WBC_Samples/valid/images/E-11_0426.jpg: 416x640 1 eosinophil, 1 lymphocyte, Done. (0.011s)\n",
            "image 37/150 /content/WBC_Dataset/WBC_Samples/valid/images/E-11_0521.jpg: 416x640 1 eosinophil, Done. (0.010s)\n",
            "image 38/150 /content/WBC_Dataset/WBC_Samples/valid/images/E-11_0523.jpg: 416x640 1 eosinophil, Done. (0.011s)\n",
            "image 39/150 /content/WBC_Dataset/WBC_Samples/valid/images/E-11_0524.jpg: 416x640 1 eosinophil, Done. (0.011s)\n",
            "image 40/150 /content/WBC_Dataset/WBC_Samples/valid/images/E-11_0569.jpg: 416x640 1 eosinophil, Done. (0.011s)\n",
            "image 41/150 /content/WBC_Dataset/WBC_Samples/valid/images/E-11_0570.jpg: 416x640 1 eosinophil, Done. (0.011s)\n",
            "image 42/150 /content/WBC_Dataset/WBC_Samples/valid/images/E-11_0571.jpg: 416x640 1 eosinophil, Done. (0.011s)\n",
            "image 43/150 /content/WBC_Dataset/WBC_Samples/valid/images/E-11_0609.jpg: 416x640 1 eosinophil, Done. (0.013s)\n",
            "image 44/150 /content/WBC_Dataset/WBC_Samples/valid/images/E-11_0613.jpg: 416x640 1 eosinophil, Done. (0.014s)\n",
            "image 45/150 /content/WBC_Dataset/WBC_Samples/valid/images/E-11_0614.jpg: 416x640 1 eosinophil, Done. (0.011s)\n",
            "image 46/150 /content/WBC_Dataset/WBC_Samples/valid/images/E-11_0623.jpg: 416x640 1 eosinophil, Done. (0.011s)\n",
            "image 47/150 /content/WBC_Dataset/WBC_Samples/valid/images/E-11_0624.jpg: 416x640 1 eosinophil, Done. (0.011s)\n",
            "image 48/150 /content/WBC_Dataset/WBC_Samples/valid/images/E-11_0631.jpg: 416x640 1 neutrophil, 1 eosinophil, Done. (0.014s)\n",
            "image 49/150 /content/WBC_Dataset/WBC_Samples/valid/images/E-11_0667.jpg: 416x640 1 eosinophil, Done. (0.012s)\n",
            "image 50/150 /content/WBC_Dataset/WBC_Samples/valid/images/E-11_0668.jpg: 416x640 1 eosinophil, Done. (0.011s)\n",
            "image 51/150 /content/WBC_Dataset/WBC_Samples/valid/images/E-11_0669.jpg: 416x640 1 eosinophil, Done. (0.011s)\n",
            "image 52/150 /content/WBC_Dataset/WBC_Samples/valid/images/E-11_0671.jpg: 416x640 1 eosinophil, Done. (0.010s)\n",
            "image 53/150 /content/WBC_Dataset/WBC_Samples/valid/images/E-11_0673.jpg: 416x640 1 eosinophil, Done. (0.015s)\n",
            "image 54/150 /content/WBC_Dataset/WBC_Samples/valid/images/E-3B_0857.jpg: 416x640 1 eosinophil, Done. (0.011s)\n",
            "image 55/150 /content/WBC_Dataset/WBC_Samples/valid/images/E-4B_0192.jpg: 416x640 1 lymphocyte, Done. (0.010s)\n",
            "image 56/150 /content/WBC_Dataset/WBC_Samples/valid/images/E-4B_0501.jpg: 416x640 1 eosinophil, Done. (0.010s)\n",
            "image 57/150 /content/WBC_Dataset/WBC_Samples/valid/images/E-8_0556.jpg: 416x640 1 eosinophil, Done. (0.011s)\n",
            "image 58/150 /content/WBC_Dataset/WBC_Samples/valid/images/E-8_0557.jpg: 416x640 1 eosinophil, Done. (0.011s)\n",
            "image 59/150 /content/WBC_Dataset/WBC_Samples/valid/images/E-8_0558.jpg: 416x640 1 eosinophil, Done. (0.011s)\n",
            "image 60/150 /content/WBC_Dataset/WBC_Samples/valid/images/E-8_0559.jpg: 416x640 1 eosinophil, Done. (0.011s)\n",
            "image 61/150 /content/WBC_Dataset/WBC_Samples/valid/images/HF-M-8_0037.jpg: 416x640 1 monocyte, Done. (0.010s)\n",
            "image 62/150 /content/WBC_Dataset/WBC_Samples/valid/images/HF-M-8_0073.jpg: 416x640 1 monocyte, Done. (0.010s)\n",
            "image 63/150 /content/WBC_Dataset/WBC_Samples/valid/images/L-3B_0473.jpg: 416x640 1 lymphocyte, Done. (0.011s)\n",
            "image 64/150 /content/WBC_Dataset/WBC_Samples/valid/images/L-3B_0479.jpg: 416x640 1 lymphocyte, Done. (0.011s)\n",
            "image 65/150 /content/WBC_Dataset/WBC_Samples/valid/images/L-4B_0295.jpg: 416x640 1 lymphocyte, Done. (0.016s)\n",
            "image 66/150 /content/WBC_Dataset/WBC_Samples/valid/images/L-4B_0511.jpg: 416x640 1 lymphocyte, Done. (0.012s)\n",
            "image 67/150 /content/WBC_Dataset/WBC_Samples/valid/images/L-5B_0010.jpg: 416x640 1 lymphocyte, Done. (0.011s)\n",
            "image 68/150 /content/WBC_Dataset/WBC_Samples/valid/images/L-5Bb_0165.jpg: 416x640 1 lymphocyte, Done. (0.011s)\n",
            "image 69/150 /content/WBC_Dataset/WBC_Samples/valid/images/L-5Bb_0290.jpg: 416x640 1 lymphocyte, Done. (0.011s)\n",
            "image 70/150 /content/WBC_Dataset/WBC_Samples/valid/images/L-5Bb_0304.jpg: 416x640 1 lymphocyte, Done. (0.011s)\n",
            "image 71/150 /content/WBC_Dataset/WBC_Samples/valid/images/L-8_0044.jpg: 416x640 1 lymphocyte, Done. (0.011s)\n",
            "image 72/150 /content/WBC_Dataset/WBC_Samples/valid/images/L-8_0162.jpg: 416x640 1 lymphocyte, Done. (0.011s)\n",
            "image 73/150 /content/WBC_Dataset/WBC_Samples/valid/images/L-8_0166.jpg: 416x640 1 lymphocyte, Done. (0.011s)\n",
            "image 74/150 /content/WBC_Dataset/WBC_Samples/valid/images/L-8_0218.jpg: 416x640 1 lymphocyte, Done. (0.010s)\n",
            "image 75/150 /content/WBC_Dataset/WBC_Samples/valid/images/L-8_0226.jpg: 416x640 1 lymphocyte, Done. (0.011s)\n",
            "image 76/150 /content/WBC_Dataset/WBC_Samples/valid/images/L-8_0228.jpg: 416x640 1 lymphocyte, Done. (0.011s)\n",
            "image 77/150 /content/WBC_Dataset/WBC_Samples/valid/images/L-8_0276.jpg: 416x640 1 lymphocyte, Done. (0.011s)\n",
            "image 78/150 /content/WBC_Dataset/WBC_Samples/valid/images/L-8_0277.jpg: 416x640 1 lymphocyte, Done. (0.011s)\n",
            "image 79/150 /content/WBC_Dataset/WBC_Samples/valid/images/L-8_0320.jpg: 416x640 1 lymphocyte, Done. (0.010s)\n",
            "image 80/150 /content/WBC_Dataset/WBC_Samples/valid/images/L-8_0321.jpg: 416x640 1 lymphocyte, Done. (0.010s)\n",
            "image 81/150 /content/WBC_Dataset/WBC_Samples/valid/images/L-8_0323.jpg: 416x640 1 neutrophil, 1 lymphocyte, Done. (0.011s)\n",
            "image 82/150 /content/WBC_Dataset/WBC_Samples/valid/images/L-8_0324.jpg: 416x640 1 lymphocyte, Done. (0.011s)\n",
            "image 83/150 /content/WBC_Dataset/WBC_Samples/valid/images/L-8_0365.jpg: 416x640 1 lymphocyte, Done. (0.011s)\n",
            "image 84/150 /content/WBC_Dataset/WBC_Samples/valid/images/L-8_0366.jpg: 416x640 1 lymphocyte, Done. (0.011s)\n",
            "image 85/150 /content/WBC_Dataset/WBC_Samples/valid/images/L-8_0380.jpg: 416x640 1 lymphocyte, Done. (0.010s)\n",
            "image 86/150 /content/WBC_Dataset/WBC_Samples/valid/images/L-8_0381.jpg: 416x640 1 lymphocyte, Done. (0.011s)\n",
            "image 87/150 /content/WBC_Dataset/WBC_Samples/valid/images/L-8_0396.jpg: 416x640 2 lymphocytes, Done. (0.012s)\n",
            "image 88/150 /content/WBC_Dataset/WBC_Samples/valid/images/L-8_0397.jpg: 416x640 1 lymphocyte, Done. (0.011s)\n",
            "image 89/150 /content/WBC_Dataset/WBC_Samples/valid/images/L-8_0464.jpg: 416x640 1 lymphocyte, Done. (0.011s)\n",
            "image 90/150 /content/WBC_Dataset/WBC_Samples/valid/images/L-8_0465.jpg: 416x640 1 lymphocyte, Done. (0.011s)\n",
            "image 91/150 /content/WBC_Dataset/WBC_Samples/valid/images/L-8_0467.jpg: 416x640 1 lymphocyte, Done. (0.011s)\n",
            "image 92/150 /content/WBC_Dataset/WBC_Samples/valid/images/L-8_0485.jpg: 416x640 1 lymphocyte, 1 monocyte, Done. (0.010s)\n",
            "image 93/150 /content/WBC_Dataset/WBC_Samples/valid/images/M-3B_0382.jpg: 416x640 1 monocyte, Done. (0.014s)\n",
            "image 94/150 /content/WBC_Dataset/WBC_Samples/valid/images/M-3B_0403.jpg: 416x640 1 monocyte, Done. (0.011s)\n",
            "image 95/150 /content/WBC_Dataset/WBC_Samples/valid/images/M-3B_0480.jpg: 416x640 1 monocyte, Done. (0.011s)\n",
            "image 96/150 /content/WBC_Dataset/WBC_Samples/valid/images/M-4B_0113.jpg: 416x640 1 monocyte, Done. (0.011s)\n",
            "image 97/150 /content/WBC_Dataset/WBC_Samples/valid/images/M-4B_0278.jpg: 416x640 1 monocyte, Done. (0.011s)\n",
            "image 98/150 /content/WBC_Dataset/WBC_Samples/valid/images/M-4B_0678.jpg: 416x640 1 monocyte, Done. (0.011s)\n",
            "image 99/150 /content/WBC_Dataset/WBC_Samples/valid/images/M-5B_0014.jpg: 416x640 1 monocyte, Done. (0.011s)\n",
            "image 100/150 /content/WBC_Dataset/WBC_Samples/valid/images/M-5B_0017.jpg: 416x640 1 monocyte, Done. (0.011s)\n",
            "image 101/150 /content/WBC_Dataset/WBC_Samples/valid/images/M-5B_0025.jpg: 416x640 1 monocyte, Done. (0.010s)\n",
            "image 102/150 /content/WBC_Dataset/WBC_Samples/valid/images/M-5Bb_0026.jpg: 416x640 1 monocyte, Done. (0.011s)\n",
            "image 103/150 /content/WBC_Dataset/WBC_Samples/valid/images/M-5Bb_0033.jpg: 416x640 1 monocyte, Done. (0.011s)\n",
            "image 104/150 /content/WBC_Dataset/WBC_Samples/valid/images/M-5Bb_0042.jpg: 416x640 1 monocyte, Done. (0.011s)\n",
            "image 105/150 /content/WBC_Dataset/WBC_Samples/valid/images/M-5Bb_0044.jpg: 416x640 1 monocyte, Done. (0.010s)\n",
            "image 106/150 /content/WBC_Dataset/WBC_Samples/valid/images/M-5Bb_0085.jpg: 416x640 1 monocyte, Done. (0.010s)\n",
            "image 107/150 /content/WBC_Dataset/WBC_Samples/valid/images/M-5Bb_0093.jpg: 416x640 1 monocyte, Done. (0.014s)\n",
            "image 108/150 /content/WBC_Dataset/WBC_Samples/valid/images/M-5Bb_0107.jpg: 416x640 1 monocyte, Done. (0.012s)\n",
            "image 109/150 /content/WBC_Dataset/WBC_Samples/valid/images/M-5Bb_0110.jpg: 416x640 1 monocyte, Done. (0.011s)\n",
            "image 110/150 /content/WBC_Dataset/WBC_Samples/valid/images/M-5Bb_0116.jpg: 416x640 1 monocyte, Done. (0.011s)\n",
            "image 111/150 /content/WBC_Dataset/WBC_Samples/valid/images/M-5Bb_0119.jpg: 416x640 1 monocyte, Done. (0.010s)\n",
            "image 112/150 /content/WBC_Dataset/WBC_Samples/valid/images/M-5Bb_0182.jpg: 416x640 1 monocyte, Done. (0.011s)\n",
            "image 113/150 /content/WBC_Dataset/WBC_Samples/valid/images/M-8_0033.jpg: 416x640 1 lymphocyte, 1 monocyte, Done. (0.011s)\n",
            "image 114/150 /content/WBC_Dataset/WBC_Samples/valid/images/M-8_0037.jpg: 416x640 1 monocyte, Done. (0.011s)\n",
            "image 115/150 /content/WBC_Dataset/WBC_Samples/valid/images/M-8_0039.jpg: 416x640 1 monocyte, Done. (0.011s)\n",
            "image 116/150 /content/WBC_Dataset/WBC_Samples/valid/images/M-8_0052.jpg: 416x640 1 monocyte, Done. (0.010s)\n",
            "image 117/150 /content/WBC_Dataset/WBC_Samples/valid/images/M-8_0071.jpg: 416x640 1 monocyte, Done. (0.011s)\n",
            "image 118/150 /content/WBC_Dataset/WBC_Samples/valid/images/M-8_0073.jpg: 416x640 1 monocyte, Done. (0.010s)\n",
            "image 119/150 /content/WBC_Dataset/WBC_Samples/valid/images/M-8_0074.jpg: 416x640 1 monocyte, Done. (0.010s)\n",
            "image 120/150 /content/WBC_Dataset/WBC_Samples/valid/images/M-8_0112.jpg: 416x640 1 monocyte, Done. (0.011s)\n",
            "image 121/150 /content/WBC_Dataset/WBC_Samples/valid/images/N-1B_0229.jpg: 416x640 1 neutrophil, Done. (0.013s)\n",
            "image 122/150 /content/WBC_Dataset/WBC_Samples/valid/images/N-1B_0235.jpg: 416x640 1 neutrophil, Done. (0.011s)\n",
            "image 123/150 /content/WBC_Dataset/WBC_Samples/valid/images/N-1B_0241.jpg: 416x640 1 neutrophil, Done. (0.011s)\n",
            "image 124/150 /content/WBC_Dataset/WBC_Samples/valid/images/N-1B_0244.jpg: 416x640 1 neutrophil, Done. (0.011s)\n",
            "image 125/150 /content/WBC_Dataset/WBC_Samples/valid/images/N-1B_0246.jpg: 416x640 1 neutrophil, Done. (0.011s)\n",
            "image 126/150 /content/WBC_Dataset/WBC_Samples/valid/images/N-1B_0247.jpg: 416x640 1 neutrophil, Done. (0.011s)\n",
            "image 127/150 /content/WBC_Dataset/WBC_Samples/valid/images/N-1B_0253.jpg: 416x640 1 neutrophil, Done. (0.012s)\n",
            "image 128/150 /content/WBC_Dataset/WBC_Samples/valid/images/N-1B_0254.jpg: 416x640 1 neutrophil, Done. (0.011s)\n",
            "image 129/150 /content/WBC_Dataset/WBC_Samples/valid/images/N-2B_0105.jpg: 416x640 1 neutrophil, Done. (0.010s)\n",
            "image 130/150 /content/WBC_Dataset/WBC_Samples/valid/images/N-2B_0111.jpg: 416x640 1 neutrophil, Done. (0.012s)\n",
            "image 131/150 /content/WBC_Dataset/WBC_Samples/valid/images/N-2B_0113.jpg: 416x640 1 neutrophil, Done. (0.011s)\n",
            "image 132/150 /content/WBC_Dataset/WBC_Samples/valid/images/N-2B_0127.jpg: 416x640 1 neutrophil, Done. (0.013s)\n",
            "image 133/150 /content/WBC_Dataset/WBC_Samples/valid/images/N-2B_0139.jpg: 416x640 1 neutrophil, Done. (0.011s)\n",
            "image 134/150 /content/WBC_Dataset/WBC_Samples/valid/images/N-2B_0141.jpg: 416x640 1 neutrophil, Done. (0.010s)\n",
            "image 135/150 /content/WBC_Dataset/WBC_Samples/valid/images/N-2B_0156.jpg: 416x640 1 neutrophil, Done. (0.011s)\n",
            "image 136/150 /content/WBC_Dataset/WBC_Samples/valid/images/N-2B_0157.jpg: 416x640 1 neutrophil, Done. (0.010s)\n",
            "image 137/150 /content/WBC_Dataset/WBC_Samples/valid/images/N-2B_0160.jpg: 416x640 1 neutrophil, Done. (0.012s)\n",
            "image 138/150 /content/WBC_Dataset/WBC_Samples/valid/images/N-2B_0167.jpg: 416x640 1 neutrophil, Done. (0.011s)\n",
            "image 139/150 /content/WBC_Dataset/WBC_Samples/valid/images/N-2B_0285.jpg: 416x640 1 neutrophil, Done. (0.011s)\n",
            "image 140/150 /content/WBC_Dataset/WBC_Samples/valid/images/N-2B_0290.jpg: 416x640 1 neutrophil, Done. (0.011s)\n",
            "image 141/150 /content/WBC_Dataset/WBC_Samples/valid/images/N-2B_0301.jpg: 416x640 1 neutrophil, Done. (0.011s)\n",
            "image 142/150 /content/WBC_Dataset/WBC_Samples/valid/images/N-2B_0302.jpg: 416x640 1 neutrophil, Done. (0.013s)\n",
            "image 143/150 /content/WBC_Dataset/WBC_Samples/valid/images/N-2B_0338.jpg: 416x640 1 neutrophil, Done. (0.013s)\n",
            "image 144/150 /content/WBC_Dataset/WBC_Samples/valid/images/N-2B_0339.jpg: 416x640 1 neutrophil, Done. (0.014s)\n",
            "image 145/150 /content/WBC_Dataset/WBC_Samples/valid/images/N-2B_0346.jpg: 416x640 1 neutrophil, Done. (0.011s)\n",
            "image 146/150 /content/WBC_Dataset/WBC_Samples/valid/images/N-2B_0347.jpg: 416x640 1 neutrophil, Done. (0.011s)\n",
            "image 147/150 /content/WBC_Dataset/WBC_Samples/valid/images/N-2B_0398.jpg: 416x640 1 neutrophil, Done. (0.011s)\n",
            "image 148/150 /content/WBC_Dataset/WBC_Samples/valid/images/N-2B_0400.jpg: 416x640 1 neutrophil, Done. (0.011s)\n",
            "image 149/150 /content/WBC_Dataset/WBC_Samples/valid/images/N-2B_0422.jpg: 416x640 1 neutrophil, Done. (0.011s)\n",
            "image 150/150 /content/WBC_Dataset/WBC_Samples/valid/images/N-2B_0425.jpg: 416x640 1 neutrophil, Done. (0.011s)\n",
            "Speed: 0.4ms pre-process, 11.1ms inference, 1.2ms NMS per image at shape (1, 3, 640, 640)\n",
            "Results saved to \u001b[1myolov5/runs/detect/exp\u001b[0m\n"
          ]
        }
      ],
      "source": [
        "!python yolov5/detect.py --source '/content/WBC_Dataset/WBC_Samples/valid/images' --weights '/content/WBC_Dataset/weights/best.pt' --conf 0.7"
      ]
    },
    {
      "cell_type": "markdown",
      "metadata": {
        "id": "4VhdiRBVC9yS"
      },
      "source": [
        "**Counting**\n",
        "===================="
      ]
    },
    {
      "cell_type": "code",
      "execution_count": null,
      "metadata": {
        "id": "9HrH-RmvajaO"
      },
      "outputs": [],
      "source": []
    },
    {
      "cell_type": "code",
      "execution_count": null,
      "metadata": {
        "id": "VAOaS6cXRJNZ"
      },
      "outputs": [],
      "source": []
    },
    {
      "cell_type": "code",
      "execution_count": null,
      "metadata": {
        "id": "Q-Hb6Yk0C8_k"
      },
      "outputs": [],
      "source": []
    }
  ],
  "metadata": {
    "accelerator": "GPU",
    "colab": {
      "provenance": [],
      "include_colab_link": true
    },
    "gpuClass": "standard",
    "kernelspec": {
      "display_name": "Python 3",
      "name": "python3"
    },
    "language_info": {
      "name": "python"
    }
  },
  "nbformat": 4,
  "nbformat_minor": 0
}